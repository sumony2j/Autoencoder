{
 "cells": [
  {
   "cell_type": "markdown",
   "id": "e24c3ff8",
   "metadata": {},
   "source": [
    "## Load Libraries"
   ]
  },
  {
   "cell_type": "code",
   "execution_count": 1,
   "id": "c2551b41",
   "metadata": {},
   "outputs": [],
   "source": [
    "import numpy as np\n",
    "import pandas as pd\n",
    "import matplotlib.pyplot as plt\n",
    "import tensorflow as tf\n",
    "from tensorflow.keras.models import Sequential,Model\n",
    "from tensorflow.keras.layers import Dense,Input,Conv2D,UpSampling2D,MaxPooling2D\n",
    "from tensorflow.keras.datasets import mnist"
   ]
  },
  {
   "cell_type": "markdown",
   "id": "b03727d8",
   "metadata": {},
   "source": [
    "## Check GPU"
   ]
  },
  {
   "cell_type": "code",
   "execution_count": 2,
   "id": "195e4614",
   "metadata": {},
   "outputs": [
    {
     "name": "stdout",
     "output_type": "stream",
     "text": [
      "[name: \"/device:CPU:0\"\n",
      "device_type: \"CPU\"\n",
      "memory_limit: 268435456\n",
      "locality {\n",
      "}\n",
      "incarnation: 9618116927910668097\n",
      "xla_global_id: -1\n",
      ", name: \"/device:GPU:0\"\n",
      "device_type: \"GPU\"\n",
      "memory_limit: 1738696295\n",
      "locality {\n",
      "  bus_id: 1\n",
      "  links {\n",
      "  }\n",
      "}\n",
      "incarnation: 3913298050167088334\n",
      "physical_device_desc: \"device: 0, name: NVIDIA GeForce RTX 3050 Laptop GPU, pci bus id: 0000:01:00.0, compute capability: 8.6\"\n",
      "xla_global_id: 416903419\n",
      "]\n"
     ]
    }
   ],
   "source": [
    "from tensorflow.python.client import device_lib\n",
    "print(device_lib.list_local_devices())"
   ]
  },
  {
   "cell_type": "markdown",
   "id": "b41494d7",
   "metadata": {},
   "source": [
    "## Load Dataset"
   ]
  },
  {
   "cell_type": "code",
   "execution_count": 3,
   "id": "3db0eb93",
   "metadata": {},
   "outputs": [],
   "source": [
    "(x_train,y_train),(x_test,y_test) = mnist.load_data()"
   ]
  },
  {
   "cell_type": "markdown",
   "id": "be08eea7",
   "metadata": {},
   "source": [
    "## Explore Dataset"
   ]
  },
  {
   "cell_type": "code",
   "execution_count": 4,
   "id": "3677dd9a",
   "metadata": {},
   "outputs": [
    {
     "data": {
      "text/plain": [
       "((60000, 28, 28), (60000,))"
      ]
     },
     "execution_count": 4,
     "metadata": {},
     "output_type": "execute_result"
    }
   ],
   "source": [
    "x_train.shape, y_train.shape"
   ]
  },
  {
   "cell_type": "code",
   "execution_count": 5,
   "id": "0d6a8494",
   "metadata": {},
   "outputs": [
    {
     "data": {
      "text/plain": [
       "((10000, 28, 28), (10000,))"
      ]
     },
     "execution_count": 5,
     "metadata": {},
     "output_type": "execute_result"
    }
   ],
   "source": [
    "x_test.shape, y_test.shape"
   ]
  },
  {
   "cell_type": "code",
   "execution_count": 6,
   "id": "1624bfad",
   "metadata": {},
   "outputs": [],
   "source": [
    "i = np.random.randint(0,60000)"
   ]
  },
  {
   "cell_type": "code",
   "execution_count": 7,
   "id": "40b9a8d7",
   "metadata": {},
   "outputs": [
    {
     "data": {
      "image/png": "[encoded data removed]",
      "text/plain": [
       "<Figure size 200x200 with 1 Axes>"
      ]
     },
     "metadata": {},
     "output_type": "display_data"
    },
    {
     "name": "stdout",
     "output_type": "stream",
     "text": [
      "The digit is : 7\n"
     ]
    }
   ],
   "source": [
    "plt.figure(figsize=(2,2))\n",
    "plt.imshow(x_train[i],cmap='gray')\n",
    "plt.show()\n",
    "print(f'The digit is : {y_train[i]}')"
   ]
  },
  {
   "cell_type": "markdown",
   "id": "88ae55a2",
   "metadata": {},
   "source": [
    "## Scaling"
   ]
  },
  {
   "cell_type": "code",
   "execution_count": 8,
   "id": "292c345d",
   "metadata": {},
   "outputs": [],
   "source": [
    "x_train = x_train.reshape(x_train.shape[0],28,28,1)\n",
    "x_test = x_test.reshape(x_test.shape[0],28,28,1)"
   ]
  },
  {
   "cell_type": "code",
   "execution_count": 9,
   "id": "8a6215d7",
   "metadata": {},
   "outputs": [],
   "source": [
    "x_train = x_train.astype('float64')/255.0"
   ]
  },
  {
   "cell_type": "code",
   "execution_count": 10,
   "id": "c48f72f6",
   "metadata": {},
   "outputs": [],
   "source": [
    "x_test = x_test.astype('float64')/255.0"
   ]
  },
  {
   "cell_type": "markdown",
   "id": "0412390f",
   "metadata": {},
   "source": [
    "## Flatten the images for fully connected layer"
   ]
  },
  {
   "cell_type": "code",
   "execution_count": 11,
   "id": "73c16185",
   "metadata": {},
   "outputs": [],
   "source": [
    "x_train = x_train.reshape(x_train.shape[0],np.prod(x_train.shape[1:]))"
   ]
  },
  {
   "cell_type": "code",
   "execution_count": 12,
   "id": "546d1b72",
   "metadata": {},
   "outputs": [
    {
     "data": {
      "text/plain": [
       "(60000, 784)"
      ]
     },
     "execution_count": 12,
     "metadata": {},
     "output_type": "execute_result"
    }
   ],
   "source": [
    "x_train.shape"
   ]
  },
  {
   "cell_type": "code",
   "execution_count": 13,
   "id": "692681d5",
   "metadata": {},
   "outputs": [],
   "source": [
    "x_test = x_test.reshape(x_test.shape[0],np.prod(x_test.shape[1:]))"
   ]
  },
  {
   "cell_type": "code",
   "execution_count": 14,
   "id": "4691ecb6",
   "metadata": {},
   "outputs": [
    {
     "data": {
      "text/plain": [
       "(10000, 784)"
      ]
     },
     "execution_count": 14,
     "metadata": {},
     "output_type": "execute_result"
    }
   ],
   "source": [
    "x_test.shape"
   ]
  },
  {
   "cell_type": "markdown",
   "id": "068fc404",
   "metadata": {},
   "source": [
    "## Vanilla Autoencoder"
   ]
  },
  {
   "cell_type": "markdown",
   "id": "a6f9daa3",
   "metadata": {},
   "source": [
    "## Create Network\n",
    "**3 Layers (input->encode->decode->output)**"
   ]
  },
  {
   "cell_type": "code",
   "execution_count": 15,
   "id": "8e6359e7",
   "metadata": {},
   "outputs": [],
   "source": [
    "input_size = 784\n",
    "output_size = 784\n",
    "hidden_size = 64"
   ]
  },
  {
   "cell_type": "code",
   "execution_count": 16,
   "id": "3f03fc61",
   "metadata": {},
   "outputs": [],
   "source": [
    "input_ = Input(shape=input_size)\n",
    "hidden = Dense(units=hidden_size,activation=\"relu\")(input_)\n",
    "output = Dense(units=output_size,activation='sigmoid')(hidden)"
   ]
  },
  {
   "cell_type": "markdown",
   "id": "c9398d52",
   "metadata": {},
   "source": [
    "## Autoencoder"
   ]
  },
  {
   "cell_type": "code",
   "execution_count": 17,
   "id": "50a199fa",
   "metadata": {},
   "outputs": [],
   "source": [
    "autoencoder = Model(inputs=input_,outputs=output)"
   ]
  },
  {
   "cell_type": "code",
   "execution_count": 18,
   "id": "5814af33",
   "metadata": {},
   "outputs": [
    {
     "name": "stdout",
     "output_type": "stream",
     "text": [
      "Model: \"model\"\n",
      "_________________________________________________________________\n",
      " Layer (type)                Output Shape              Param #   \n",
      "=================================================================\n",
      " input_1 (InputLayer)        [(None, 784)]             0         \n",
      "                                                                 \n",
      " dense (Dense)               (None, 64)                50240     \n",
      "                                                                 \n",
      " dense_1 (Dense)             (None, 784)               50960     \n",
      "                                                                 \n",
      "=================================================================\n",
      "Total params: 101,200\n",
      "Trainable params: 101,200\n",
      "Non-trainable params: 0\n",
      "_________________________________________________________________\n"
     ]
    }
   ],
   "source": [
    "autoencoder.summary()"
   ]
  },
  {
   "cell_type": "markdown",
   "id": "2d48298a",
   "metadata": {},
   "source": [
    "## Encoder"
   ]
  },
  {
   "cell_type": "code",
   "execution_count": 19,
   "id": "d6a333f9",
   "metadata": {},
   "outputs": [],
   "source": [
    "encoder = Model(input_,hidden)"
   ]
  },
  {
   "cell_type": "code",
   "execution_count": 20,
   "id": "0e6d3438",
   "metadata": {},
   "outputs": [
    {
     "name": "stdout",
     "output_type": "stream",
     "text": [
      "Model: \"model_1\"\n",
      "_________________________________________________________________\n",
      " Layer (type)                Output Shape              Param #   \n",
      "=================================================================\n",
      " input_1 (InputLayer)        [(None, 784)]             0         \n",
      "                                                                 \n",
      " dense (Dense)               (None, 64)                50240     \n",
      "                                                                 \n",
      "=================================================================\n",
      "Total params: 50,240\n",
      "Trainable params: 50,240\n",
      "Non-trainable params: 0\n",
      "_________________________________________________________________\n"
     ]
    }
   ],
   "source": [
    "encoder.summary()"
   ]
  },
  {
   "cell_type": "markdown",
   "id": "5da91b52",
   "metadata": {},
   "source": [
    "## Decoder"
   ]
  },
  {
   "cell_type": "code",
   "execution_count": 21,
   "id": "2af2be04",
   "metadata": {},
   "outputs": [],
   "source": [
    "decoder_input = Input(shape=(hidden_size,))"
   ]
  },
  {
   "cell_type": "code",
   "execution_count": 22,
   "id": "d8814bba",
   "metadata": {},
   "outputs": [],
   "source": [
    "decoder_layer = autoencoder.layers[-1]"
   ]
  },
  {
   "cell_type": "code",
   "execution_count": 23,
   "id": "bdbe84b5",
   "metadata": {},
   "outputs": [],
   "source": [
    "decoder = Model(decoder_input,decoder_layer(decoder_input))"
   ]
  },
  {
   "cell_type": "code",
   "execution_count": 24,
   "id": "039b7959",
   "metadata": {},
   "outputs": [
    {
     "name": "stdout",
     "output_type": "stream",
     "text": [
      "Model: \"model_2\"\n",
      "_________________________________________________________________\n",
      " Layer (type)                Output Shape              Param #   \n",
      "=================================================================\n",
      " input_2 (InputLayer)        [(None, 64)]              0         \n",
      "                                                                 \n",
      " dense_1 (Dense)             (None, 784)               50960     \n",
      "                                                                 \n",
      "=================================================================\n",
      "Total params: 50,960\n",
      "Trainable params: 50,960\n",
      "Non-trainable params: 0\n",
      "_________________________________________________________________\n"
     ]
    }
   ],
   "source": [
    "decoder.summary()"
   ]
  },
  {
   "cell_type": "markdown",
   "id": "de4ef914",
   "metadata": {},
   "source": [
    "## Train Autoencoder"
   ]
  },
  {
   "cell_type": "code",
   "execution_count": 25,
   "id": "492aed0e",
   "metadata": {},
   "outputs": [],
   "source": [
    "autoencoder.compile(optimizer='adam',loss='mse')"
   ]
  },
  {
   "cell_type": "code",
   "execution_count": 26,
   "id": "f25dc1ea",
   "metadata": {},
   "outputs": [
    {
     "name": "stdout",
     "output_type": "stream",
     "text": [
      "Epoch 1/100\n",
      "469/469 [==============================] - 2s 2ms/step - loss: 0.0451 - val_loss: 0.0227\n",
      "Epoch 2/100\n",
      "469/469 [==============================] - 1s 2ms/step - loss: 0.0175 - val_loss: 0.0130\n",
      "Epoch 3/100\n",
      "469/469 [==============================] - 1s 2ms/step - loss: 0.0110 - val_loss: 0.0089\n",
      "Epoch 4/100\n",
      "469/469 [==============================] - 2s 4ms/step - loss: 0.0079 - val_loss: 0.0067\n",
      "Epoch 5/100\n",
      "469/469 [==============================] - 2s 4ms/step - loss: 0.0063 - val_loss: 0.0056\n",
      "Epoch 6/100\n",
      "469/469 [==============================] - 1s 3ms/step - loss: 0.0054 - val_loss: 0.0050\n",
      "Epoch 7/100\n",
      "469/469 [==============================] - 1s 3ms/step - loss: 0.0050 - val_loss: 0.0046\n",
      "Epoch 8/100\n",
      "469/469 [==============================] - 1s 3ms/step - loss: 0.0046 - val_loss: 0.0044\n",
      "Epoch 9/100\n",
      "469/469 [==============================] - 2s 3ms/step - loss: 0.0044 - val_loss: 0.0042\n",
      "Epoch 10/100\n",
      "469/469 [==============================] - 2s 3ms/step - loss: 0.0043 - val_loss: 0.0041\n",
      "Epoch 11/100\n",
      "469/469 [==============================] - 1s 3ms/step - loss: 0.0042 - val_loss: 0.0041\n",
      "Epoch 12/100\n",
      "469/469 [==============================] - 2s 4ms/step - loss: 0.0042 - val_loss: 0.0040\n",
      "Epoch 13/100\n",
      "469/469 [==============================] - 2s 4ms/step - loss: 0.0041 - val_loss: 0.0040\n",
      "Epoch 14/100\n",
      "469/469 [==============================] - 1s 3ms/step - loss: 0.0041 - val_loss: 0.0040\n",
      "Epoch 15/100\n",
      "469/469 [==============================] - 1s 2ms/step - loss: 0.0040 - val_loss: 0.0039\n",
      "Epoch 16/100\n",
      "469/469 [==============================] - 1s 2ms/step - loss: 0.0040 - val_loss: 0.0039\n",
      "Epoch 17/100\n",
      "469/469 [==============================] - 1s 2ms/step - loss: 0.0040 - val_loss: 0.0039\n",
      "Epoch 18/100\n",
      "469/469 [==============================] - 1s 2ms/step - loss: 0.0040 - val_loss: 0.0038\n",
      "Epoch 19/100\n",
      "469/469 [==============================] - 1s 2ms/step - loss: 0.0040 - val_loss: 0.0038\n",
      "Epoch 20/100\n",
      "469/469 [==============================] - 1s 2ms/step - loss: 0.0039 - val_loss: 0.0038\n",
      "Epoch 21/100\n",
      "469/469 [==============================] - 1s 2ms/step - loss: 0.0039 - val_loss: 0.0038\n",
      "Epoch 22/100\n",
      "469/469 [==============================] - 1s 2ms/step - loss: 0.0039 - val_loss: 0.0038\n",
      "Epoch 23/100\n",
      "469/469 [==============================] - 1s 2ms/step - loss: 0.0039 - val_loss: 0.0038\n",
      "Epoch 24/100\n",
      "469/469 [==============================] - 1s 2ms/step - loss: 0.0039 - val_loss: 0.0038\n",
      "Epoch 25/100\n",
      "469/469 [==============================] - 1s 2ms/step - loss: 0.0038 - val_loss: 0.0038\n",
      "Epoch 26/100\n",
      "469/469 [==============================] - 1s 2ms/step - loss: 0.0038 - val_loss: 0.0037\n",
      "Epoch 27/100\n",
      "469/469 [==============================] - 1s 2ms/step - loss: 0.0038 - val_loss: 0.0037\n",
      "Epoch 28/100\n",
      "469/469 [==============================] - 1s 2ms/step - loss: 0.0038 - val_loss: 0.0037\n",
      "Epoch 29/100\n",
      "469/469 [==============================] - 1s 2ms/step - loss: 0.0038 - val_loss: 0.0037\n",
      "Epoch 30/100\n",
      "469/469 [==============================] - 1s 2ms/step - loss: 0.0038 - val_loss: 0.0037\n",
      "Epoch 31/100\n",
      "469/469 [==============================] - 1s 2ms/step - loss: 0.0038 - val_loss: 0.0037\n",
      "Epoch 32/100\n",
      "469/469 [==============================] - 1s 2ms/step - loss: 0.0038 - val_loss: 0.0037\n",
      "Epoch 33/100\n",
      "469/469 [==============================] - 1s 2ms/step - loss: 0.0037 - val_loss: 0.0037\n",
      "Epoch 34/100\n",
      "469/469 [==============================] - 1s 2ms/step - loss: 0.0037 - val_loss: 0.0037\n",
      "Epoch 35/100\n",
      "469/469 [==============================] - 1s 2ms/step - loss: 0.0037 - val_loss: 0.0037\n",
      "Epoch 36/100\n",
      "469/469 [==============================] - 1s 2ms/step - loss: 0.0037 - val_loss: 0.0037\n",
      "Epoch 37/100\n",
      "469/469 [==============================] - 1s 2ms/step - loss: 0.0037 - val_loss: 0.0036\n",
      "Epoch 38/100\n",
      "469/469 [==============================] - 1s 2ms/step - loss: 0.0037 - val_loss: 0.0037\n",
      "Epoch 39/100\n",
      "469/469 [==============================] - 1s 2ms/step - loss: 0.0037 - val_loss: 0.0037\n",
      "Epoch 40/100\n",
      "469/469 [==============================] - 1s 2ms/step - loss: 0.0037 - val_loss: 0.0036\n",
      "Epoch 41/100\n",
      "469/469 [==============================] - 1s 2ms/step - loss: 0.0037 - val_loss: 0.0036\n",
      "Epoch 42/100\n",
      "469/469 [==============================] - 1s 2ms/step - loss: 0.0037 - val_loss: 0.0036\n",
      "Epoch 43/100\n",
      "469/469 [==============================] - 1s 2ms/step - loss: 0.0037 - val_loss: 0.0036\n",
      "Epoch 44/100\n",
      "469/469 [==============================] - 1s 2ms/step - loss: 0.0037 - val_loss: 0.0036\n",
      "Epoch 45/100\n",
      "469/469 [==============================] - 1s 2ms/step - loss: 0.0037 - val_loss: 0.0036\n",
      "Epoch 46/100\n",
      "469/469 [==============================] - 1s 2ms/step - loss: 0.0037 - val_loss: 0.0036\n",
      "Epoch 47/100\n",
      "469/469 [==============================] - 1s 2ms/step - loss: 0.0037 - val_loss: 0.0036\n",
      "Epoch 48/100\n",
      "469/469 [==============================] - 1s 2ms/step - loss: 0.0037 - val_loss: 0.0036\n",
      "Epoch 49/100\n",
      "469/469 [==============================] - 1s 2ms/step - loss: 0.0037 - val_loss: 0.0036\n",
      "Epoch 50/100\n",
      "469/469 [==============================] - 1s 2ms/step - loss: 0.0037 - val_loss: 0.0036\n",
      "Epoch 51/100\n",
      "469/469 [==============================] - 1s 2ms/step - loss: 0.0037 - val_loss: 0.0036\n",
      "Epoch 52/100\n",
      "469/469 [==============================] - 1s 2ms/step - loss: 0.0037 - val_loss: 0.0036\n",
      "Epoch 53/100\n",
      "469/469 [==============================] - 1s 2ms/step - loss: 0.0036 - val_loss: 0.0036\n",
      "Epoch 54/100\n",
      "469/469 [==============================] - 1s 2ms/step - loss: 0.0036 - val_loss: 0.0036\n",
      "Epoch 55/100\n",
      "469/469 [==============================] - 1s 2ms/step - loss: 0.0036 - val_loss: 0.0036\n",
      "Epoch 56/100\n",
      "469/469 [==============================] - 1s 2ms/step - loss: 0.0036 - val_loss: 0.0036\n",
      "Epoch 57/100\n",
      "469/469 [==============================] - 1s 2ms/step - loss: 0.0036 - val_loss: 0.0036\n",
      "Epoch 58/100\n",
      "469/469 [==============================] - 1s 2ms/step - loss: 0.0036 - val_loss: 0.0036\n",
      "Epoch 59/100\n",
      "469/469 [==============================] - 1s 2ms/step - loss: 0.0036 - val_loss: 0.0036\n",
      "Epoch 60/100\n",
      "469/469 [==============================] - 1s 2ms/step - loss: 0.0036 - val_loss: 0.0036\n",
      "Epoch 61/100\n",
      "469/469 [==============================] - 1s 2ms/step - loss: 0.0036 - val_loss: 0.0036\n",
      "Epoch 62/100\n",
      "469/469 [==============================] - 1s 2ms/step - loss: 0.0036 - val_loss: 0.0036\n",
      "Epoch 63/100\n",
      "469/469 [==============================] - 1s 2ms/step - loss: 0.0036 - val_loss: 0.0036\n",
      "Epoch 64/100\n",
      "469/469 [==============================] - 1s 2ms/step - loss: 0.0036 - val_loss: 0.0036\n",
      "Epoch 65/100\n",
      "469/469 [==============================] - 1s 2ms/step - loss: 0.0036 - val_loss: 0.0036\n",
      "Epoch 66/100\n",
      "469/469 [==============================] - 1s 2ms/step - loss: 0.0036 - val_loss: 0.0036\n",
      "Epoch 67/100\n",
      "469/469 [==============================] - 1s 2ms/step - loss: 0.0036 - val_loss: 0.0036\n",
      "Epoch 68/100\n",
      "469/469 [==============================] - 1s 2ms/step - loss: 0.0036 - val_loss: 0.0036\n",
      "Epoch 69/100\n",
      "469/469 [==============================] - 1s 2ms/step - loss: 0.0036 - val_loss: 0.0036\n",
      "Epoch 70/100\n",
      "469/469 [==============================] - 1s 2ms/step - loss: 0.0036 - val_loss: 0.0036\n",
      "Epoch 71/100\n",
      "469/469 [==============================] - 1s 2ms/step - loss: 0.0036 - val_loss: 0.0036\n",
      "Epoch 72/100\n",
      "469/469 [==============================] - 1s 2ms/step - loss: 0.0036 - val_loss: 0.0036\n",
      "Epoch 73/100\n",
      "469/469 [==============================] - 1s 2ms/step - loss: 0.0036 - val_loss: 0.0035\n",
      "Epoch 74/100\n",
      "469/469 [==============================] - 1s 2ms/step - loss: 0.0036 - val_loss: 0.0036\n",
      "Epoch 75/100\n",
      "469/469 [==============================] - 1s 2ms/step - loss: 0.0036 - val_loss: 0.0035\n",
      "Epoch 76/100\n",
      "469/469 [==============================] - 1s 2ms/step - loss: 0.0036 - val_loss: 0.0035\n",
      "Epoch 77/100\n",
      "469/469 [==============================] - 1s 2ms/step - loss: 0.0036 - val_loss: 0.0036\n",
      "Epoch 78/100\n",
      "469/469 [==============================] - 1s 2ms/step - loss: 0.0036 - val_loss: 0.0035\n",
      "Epoch 79/100\n",
      "469/469 [==============================] - 1s 2ms/step - loss: 0.0036 - val_loss: 0.0035\n",
      "Epoch 80/100\n",
      "469/469 [==============================] - 1s 3ms/step - loss: 0.0036 - val_loss: 0.0035\n",
      "Epoch 81/100\n"
     ]
    },
    {
     "name": "stdout",
     "output_type": "stream",
     "text": [
      "469/469 [==============================] - 1s 3ms/step - loss: 0.0036 - val_loss: 0.0035\n",
      "Epoch 82/100\n",
      "469/469 [==============================] - 1s 2ms/step - loss: 0.0036 - val_loss: 0.0035\n",
      "Epoch 83/100\n",
      "469/469 [==============================] - 1s 2ms/step - loss: 0.0036 - val_loss: 0.0035\n",
      "Epoch 84/100\n",
      "469/469 [==============================] - 1s 3ms/step - loss: 0.0036 - val_loss: 0.0035\n",
      "Epoch 85/100\n",
      "469/469 [==============================] - 1s 2ms/step - loss: 0.0036 - val_loss: 0.0035\n",
      "Epoch 86/100\n",
      "469/469 [==============================] - 2s 3ms/step - loss: 0.0036 - val_loss: 0.0035\n",
      "Epoch 87/100\n",
      "469/469 [==============================] - 1s 2ms/step - loss: 0.0036 - val_loss: 0.0035\n",
      "Epoch 88/100\n",
      "469/469 [==============================] - 1s 2ms/step - loss: 0.0036 - val_loss: 0.0035\n",
      "Epoch 89/100\n",
      "469/469 [==============================] - 1s 2ms/step - loss: 0.0036 - val_loss: 0.0035\n",
      "Epoch 90/100\n",
      "469/469 [==============================] - 1s 2ms/step - loss: 0.0036 - val_loss: 0.0035\n",
      "Epoch 91/100\n",
      "469/469 [==============================] - 1s 2ms/step - loss: 0.0036 - val_loss: 0.0035\n",
      "Epoch 92/100\n",
      "469/469 [==============================] - 1s 2ms/step - loss: 0.0036 - val_loss: 0.0035\n",
      "Epoch 93/100\n",
      "469/469 [==============================] - 1s 2ms/step - loss: 0.0036 - val_loss: 0.0035\n",
      "Epoch 94/100\n",
      "469/469 [==============================] - 1s 2ms/step - loss: 0.0036 - val_loss: 0.0035\n",
      "Epoch 95/100\n",
      "469/469 [==============================] - 1s 2ms/step - loss: 0.0036 - val_loss: 0.0036\n",
      "Epoch 96/100\n",
      "469/469 [==============================] - 1s 2ms/step - loss: 0.0036 - val_loss: 0.0035\n",
      "Epoch 97/100\n",
      "469/469 [==============================] - 1s 2ms/step - loss: 0.0036 - val_loss: 0.0035\n",
      "Epoch 98/100\n",
      "469/469 [==============================] - 1s 2ms/step - loss: 0.0036 - val_loss: 0.0035\n",
      "Epoch 99/100\n",
      "469/469 [==============================] - 1s 2ms/step - loss: 0.0036 - val_loss: 0.0035\n",
      "Epoch 100/100\n",
      "469/469 [==============================] - 1s 2ms/step - loss: 0.0036 - val_loss: 0.0035\n"
     ]
    }
   ],
   "source": [
    "history = autoencoder.fit(x_train,x_train,batch_size=128,epochs=100,verbose=1,validation_data=(x_test,x_test))"
   ]
  },
  {
   "cell_type": "markdown",
   "id": "5eff9138",
   "metadata": {},
   "source": [
    "## Predict & Visualize"
   ]
  },
  {
   "cell_type": "code",
   "execution_count": 27,
   "id": "55521d38",
   "metadata": {},
   "outputs": [],
   "source": [
    "i = np.random.randint(0,10000)"
   ]
  },
  {
   "cell_type": "code",
   "execution_count": 28,
   "id": "af2dc8bc",
   "metadata": {},
   "outputs": [
    {
     "name": "stdout",
     "output_type": "stream",
     "text": [
      "313/313 [==============================] - 0s 720us/step\n"
     ]
    }
   ],
   "source": [
    "encoded_images_ = encoder.predict(x_test)"
   ]
  },
  {
   "cell_type": "code",
   "execution_count": 29,
   "id": "a7d6db73",
   "metadata": {},
   "outputs": [
    {
     "name": "stdout",
     "output_type": "stream",
     "text": [
      "The digit is 4\n"
     ]
    },
    {
     "data": {
      "text/plain": [
       "Text(0.5, 1.0, 'Encoded Image')"
      ]
     },
     "execution_count": 29,
     "metadata": {},
     "output_type": "execute_result"
    },
    {
     "data": {
      "image/png": "[encoded data removed]",
      "text/plain": [
       "<Figure size 640x480 with 2 Axes>"
      ]
     },
     "metadata": {},
     "output_type": "display_data"
    }
   ],
   "source": [
    "print(f'The digit is {y_test[i]}')\n",
    "plt.subplot(1,2,1)\n",
    "plt.imshow(x_test[i].reshape(28,28),cmap='gray')\n",
    "plt.title('Original Image')\n",
    "plt.subplot(1,2,2)\n",
    "plt.imshow(encoded_images_[i].reshape(8,8),cmap='gray')\n",
    "plt.title('Encoded Image')"
   ]
  },
  {
   "cell_type": "code",
   "execution_count": 30,
   "id": "1f2c72c8",
   "metadata": {},
   "outputs": [
    {
     "name": "stdout",
     "output_type": "stream",
     "text": [
      "313/313 [==============================] - 0s 603us/step\n"
     ]
    }
   ],
   "source": [
    "decoded_images_ = decoder.predict(encoded_images_)"
   ]
  },
  {
   "cell_type": "code",
   "execution_count": 31,
   "id": "bc544906",
   "metadata": {},
   "outputs": [
    {
     "name": "stdout",
     "output_type": "stream",
     "text": [
      "The digit is 4\n"
     ]
    },
    {
     "data": {
      "text/plain": [
       "Text(0.5, 1.0, 'Decoded Image')"
      ]
     },
     "execution_count": 31,
     "metadata": {},
     "output_type": "execute_result"
    },
    {
     "data": {
      "image/png": "[encoded data removed]",
      "text/plain": [
       "<Figure size 640x480 with 2 Axes>"
      ]
     },
     "metadata": {},
     "output_type": "display_data"
    }
   ],
   "source": [
    "print(f'The digit is {y_test[i]}')\n",
    "plt.subplot(1,2,1)\n",
    "plt.imshow(x_test[i].reshape(28,28),cmap='gray')\n",
    "plt.title('Original Image')\n",
    "plt.subplot(1,2,2)\n",
    "plt.imshow(decoded_images_[i].reshape(28,28),cmap='gray')\n",
    "plt.title('Decoded Image')"
   ]
  },
  {
   "cell_type": "code",
   "execution_count": 32,
   "id": "49065e70",
   "metadata": {},
   "outputs": [
    {
     "name": "stdout",
     "output_type": "stream",
     "text": [
      "313/313 [==============================] - 0s 838us/step\n"
     ]
    }
   ],
   "source": [
    "decoded_images = autoencoder.predict(x_test)"
   ]
  },
  {
   "cell_type": "code",
   "execution_count": 33,
   "id": "d38bb53e",
   "metadata": {},
   "outputs": [
    {
     "name": "stdout",
     "output_type": "stream",
     "text": [
      "The digit is 4\n"
     ]
    },
    {
     "data": {
      "text/plain": [
       "Text(0.5, 1.0, 'Autoencoded Image')"
      ]
     },
     "execution_count": 33,
     "metadata": {},
     "output_type": "execute_result"
    },
    {
     "data": {
      "image/png": "[encoded data removed]",
      "text/plain": [
       "<Figure size 640x480 with 2 Axes>"
      ]
     },
     "metadata": {},
     "output_type": "display_data"
    }
   ],
   "source": [
    "print(f'The digit is {y_test[i]}')\n",
    "plt.subplot(1,2,1)\n",
    "plt.imshow(x_test[i].reshape(28,28),cmap='gray')\n",
    "plt.title('Original Image')\n",
    "plt.subplot(1,2,2)\n",
    "plt.imshow(decoded_images[i].reshape(28,28),cmap='gray')\n",
    "plt.title('Autoencoded Image')"
   ]
  },
  {
   "cell_type": "markdown",
   "id": "9618b93d",
   "metadata": {},
   "source": [
    "## Create Network\n",
    "**Input->encoder_layer_1->encoder_layer_2->latent->decoder_layer_1->decoder_layer_2->Output**"
   ]
  },
  {
   "cell_type": "code",
   "execution_count": 34,
   "id": "78397279",
   "metadata": {},
   "outputs": [],
   "source": [
    "input_size = 784\n",
    "layer_1_size = 256\n",
    "layer_2_size = 128\n",
    "latent_size = 64"
   ]
  },
  {
   "cell_type": "code",
   "execution_count": 35,
   "id": "68fce1a4",
   "metadata": {},
   "outputs": [],
   "source": [
    "input_img = Input(shape=input_size)\n",
    "e1 = Dense(units=layer_1_size,activation=\"relu\")(input_img)\n",
    "e2 = Dense(units=layer_2_size,activation=\"relu\")(e1)\n",
    "l = Dense(units=latent_size,activation=\"relu\")(e2)\n",
    "d1 = Dense(units=layer_2_size,activation=\"relu\")(l)\n",
    "d2 = Dense(units=layer_1_size,activation=\"relu\")(d1)\n",
    "output_img = Dense(units=input_size,activation=\"sigmoid\")(d2)"
   ]
  },
  {
   "cell_type": "markdown",
   "id": "19495e23",
   "metadata": {},
   "source": [
    "## Multilayer Autoencoder"
   ]
  },
  {
   "cell_type": "code",
   "execution_count": 36,
   "id": "d1b6da20",
   "metadata": {},
   "outputs": [],
   "source": [
    "multilayer_autoencoder = Model(inputs=input_img,outputs=output_img)"
   ]
  },
  {
   "cell_type": "code",
   "execution_count": 37,
   "id": "c9115ebe",
   "metadata": {},
   "outputs": [
    {
     "name": "stdout",
     "output_type": "stream",
     "text": [
      "Model: \"model_3\"\n",
      "_________________________________________________________________\n",
      " Layer (type)                Output Shape              Param #   \n",
      "=================================================================\n",
      " input_3 (InputLayer)        [(None, 784)]             0         \n",
      "                                                                 \n",
      " dense_2 (Dense)             (None, 256)               200960    \n",
      "                                                                 \n",
      " dense_3 (Dense)             (None, 128)               32896     \n",
      "                                                                 \n",
      " dense_4 (Dense)             (None, 64)                8256      \n",
      "                                                                 \n",
      " dense_5 (Dense)             (None, 128)               8320      \n",
      "                                                                 \n",
      " dense_6 (Dense)             (None, 256)               33024     \n",
      "                                                                 \n",
      " dense_7 (Dense)             (None, 784)               201488    \n",
      "                                                                 \n",
      "=================================================================\n",
      "Total params: 484,944\n",
      "Trainable params: 484,944\n",
      "Non-trainable params: 0\n",
      "_________________________________________________________________\n"
     ]
    }
   ],
   "source": [
    "multilayer_autoencoder.summary()"
   ]
  },
  {
   "cell_type": "markdown",
   "id": "8b960bf9",
   "metadata": {},
   "source": [
    "## Multilayer Encoder"
   ]
  },
  {
   "cell_type": "code",
   "execution_count": 38,
   "id": "1fd75921",
   "metadata": {},
   "outputs": [],
   "source": [
    "multilayer_encoder = Model(input_img,l)"
   ]
  },
  {
   "cell_type": "code",
   "execution_count": 39,
   "id": "7354745f",
   "metadata": {},
   "outputs": [
    {
     "name": "stdout",
     "output_type": "stream",
     "text": [
      "Model: \"model_4\"\n",
      "_________________________________________________________________\n",
      " Layer (type)                Output Shape              Param #   \n",
      "=================================================================\n",
      " input_3 (InputLayer)        [(None, 784)]             0         \n",
      "                                                                 \n",
      " dense_2 (Dense)             (None, 256)               200960    \n",
      "                                                                 \n",
      " dense_3 (Dense)             (None, 128)               32896     \n",
      "                                                                 \n",
      " dense_4 (Dense)             (None, 64)                8256      \n",
      "                                                                 \n",
      "=================================================================\n",
      "Total params: 242,112\n",
      "Trainable params: 242,112\n",
      "Non-trainable params: 0\n",
      "_________________________________________________________________\n"
     ]
    }
   ],
   "source": [
    "multilayer_encoder.summary()"
   ]
  },
  {
   "cell_type": "markdown",
   "id": "1891e136",
   "metadata": {},
   "source": [
    "## Multilayer_Decoder"
   ]
  },
  {
   "cell_type": "code",
   "execution_count": 40,
   "id": "0b4c2e17",
   "metadata": {},
   "outputs": [],
   "source": [
    "decoder_img = Input(shape=latent_size)\n",
    "decoder_layer_1 = multilayer_autoencoder.layers[-3](decoder_img)\n",
    "decoder_layer_2 = multilayer_autoencoder.layers[-2](decoder_layer_1)\n",
    "decoder_output = multilayer_autoencoder.layers[-1](decoder_layer_2)"
   ]
  },
  {
   "cell_type": "code",
   "execution_count": 41,
   "id": "2b4dc4bb",
   "metadata": {},
   "outputs": [],
   "source": [
    "multilayer_decoder = Model(inputs=decoder_img,outputs=decoder_output)"
   ]
  },
  {
   "cell_type": "code",
   "execution_count": 42,
   "id": "a2b62527",
   "metadata": {},
   "outputs": [
    {
     "name": "stdout",
     "output_type": "stream",
     "text": [
      "Model: \"model_5\"\n",
      "_________________________________________________________________\n",
      " Layer (type)                Output Shape              Param #   \n",
      "=================================================================\n",
      " input_4 (InputLayer)        [(None, 64)]              0         \n",
      "                                                                 \n",
      " dense_5 (Dense)             (None, 128)               8320      \n",
      "                                                                 \n",
      " dense_6 (Dense)             (None, 256)               33024     \n",
      "                                                                 \n",
      " dense_7 (Dense)             (None, 784)               201488    \n",
      "                                                                 \n",
      "=================================================================\n",
      "Total params: 242,832\n",
      "Trainable params: 242,832\n",
      "Non-trainable params: 0\n",
      "_________________________________________________________________\n"
     ]
    }
   ],
   "source": [
    "multilayer_decoder.summary()"
   ]
  },
  {
   "cell_type": "markdown",
   "id": "f8438c75",
   "metadata": {},
   "source": [
    "## Train Multilayer Autoencoder"
   ]
  },
  {
   "cell_type": "code",
   "execution_count": 43,
   "id": "8756147f",
   "metadata": {},
   "outputs": [],
   "source": [
    "multilayer_autoencoder.compile(optimizer='adam',loss='mse')"
   ]
  },
  {
   "cell_type": "code",
   "execution_count": 44,
   "id": "a9aee7de",
   "metadata": {},
   "outputs": [
    {
     "name": "stdout",
     "output_type": "stream",
     "text": [
      "Epoch 1/100\n",
      "469/469 [==============================] - 2s 4ms/step - loss: 0.0384 - val_loss: 0.0186\n",
      "Epoch 2/100\n",
      "469/469 [==============================] - 1s 3ms/step - loss: 0.0157 - val_loss: 0.0131\n",
      "Epoch 3/100\n",
      "469/469 [==============================] - 1s 3ms/step - loss: 0.0122 - val_loss: 0.0110\n",
      "Epoch 4/100\n",
      "469/469 [==============================] - 1s 3ms/step - loss: 0.0105 - val_loss: 0.0095\n",
      "Epoch 5/100\n",
      "469/469 [==============================] - 1s 3ms/step - loss: 0.0094 - val_loss: 0.0087\n",
      "Epoch 6/100\n",
      "469/469 [==============================] - 1s 3ms/step - loss: 0.0085 - val_loss: 0.0079\n",
      "Epoch 7/100\n",
      "469/469 [==============================] - 1s 3ms/step - loss: 0.0079 - val_loss: 0.0073\n",
      "Epoch 8/100\n",
      "469/469 [==============================] - 1s 3ms/step - loss: 0.0074 - val_loss: 0.0071\n",
      "Epoch 9/100\n",
      "469/469 [==============================] - 1s 3ms/step - loss: 0.0069 - val_loss: 0.0066\n",
      "Epoch 10/100\n",
      "469/469 [==============================] - 1s 3ms/step - loss: 0.0065 - val_loss: 0.0063\n",
      "Epoch 11/100\n",
      "469/469 [==============================] - 1s 3ms/step - loss: 0.0062 - val_loss: 0.0060\n",
      "Epoch 12/100\n",
      "469/469 [==============================] - 1s 3ms/step - loss: 0.0059 - val_loss: 0.0058\n",
      "Epoch 13/100\n",
      "469/469 [==============================] - 1s 3ms/step - loss: 0.0057 - val_loss: 0.0055\n",
      "Epoch 14/100\n",
      "469/469 [==============================] - 1s 3ms/step - loss: 0.0055 - val_loss: 0.0053\n",
      "Epoch 15/100\n",
      "469/469 [==============================] - 1s 3ms/step - loss: 0.0053 - val_loss: 0.0051\n",
      "Epoch 16/100\n",
      "469/469 [==============================] - 1s 3ms/step - loss: 0.0051 - val_loss: 0.0051\n",
      "Epoch 17/100\n",
      "469/469 [==============================] - 1s 3ms/step - loss: 0.0050 - val_loss: 0.0049\n",
      "Epoch 18/100\n",
      "469/469 [==============================] - 1s 3ms/step - loss: 0.0049 - val_loss: 0.0047\n",
      "Epoch 19/100\n",
      "469/469 [==============================] - 1s 3ms/step - loss: 0.0048 - val_loss: 0.0047\n",
      "Epoch 20/100\n",
      "469/469 [==============================] - 1s 3ms/step - loss: 0.0047 - val_loss: 0.0046\n",
      "Epoch 21/100\n",
      "469/469 [==============================] - 1s 3ms/step - loss: 0.0046 - val_loss: 0.0046\n",
      "Epoch 22/100\n",
      "469/469 [==============================] - 1s 3ms/step - loss: 0.0045 - val_loss: 0.0045\n",
      "Epoch 23/100\n",
      "469/469 [==============================] - 1s 3ms/step - loss: 0.0044 - val_loss: 0.0044\n",
      "Epoch 24/100\n",
      "469/469 [==============================] - 1s 3ms/step - loss: 0.0044 - val_loss: 0.0043\n",
      "Epoch 25/100\n",
      "469/469 [==============================] - 1s 3ms/step - loss: 0.0043 - val_loss: 0.0042\n",
      "Epoch 26/100\n",
      "469/469 [==============================] - 1s 3ms/step - loss: 0.0042 - val_loss: 0.0042\n",
      "Epoch 27/100\n",
      "469/469 [==============================] - 1s 3ms/step - loss: 0.0042 - val_loss: 0.0041\n",
      "Epoch 28/100\n",
      "469/469 [==============================] - 1s 3ms/step - loss: 0.0041 - val_loss: 0.0041\n",
      "Epoch 29/100\n",
      "469/469 [==============================] - 1s 3ms/step - loss: 0.0040 - val_loss: 0.0040\n",
      "Epoch 30/100\n",
      "469/469 [==============================] - 1s 3ms/step - loss: 0.0040 - val_loss: 0.0040\n",
      "Epoch 31/100\n",
      "469/469 [==============================] - 1s 3ms/step - loss: 0.0040 - val_loss: 0.0040\n",
      "Epoch 32/100\n",
      "469/469 [==============================] - 1s 3ms/step - loss: 0.0039 - val_loss: 0.0039\n",
      "Epoch 33/100\n",
      "469/469 [==============================] - 1s 3ms/step - loss: 0.0039 - val_loss: 0.0039\n",
      "Epoch 34/100\n",
      "469/469 [==============================] - 1s 3ms/step - loss: 0.0038 - val_loss: 0.0039\n",
      "Epoch 35/100\n",
      "469/469 [==============================] - 1s 3ms/step - loss: 0.0038 - val_loss: 0.0039\n",
      "Epoch 36/100\n",
      "469/469 [==============================] - 1s 3ms/step - loss: 0.0038 - val_loss: 0.0039\n",
      "Epoch 37/100\n",
      "469/469 [==============================] - 1s 3ms/step - loss: 0.0037 - val_loss: 0.0038\n",
      "Epoch 38/100\n",
      "469/469 [==============================] - 1s 3ms/step - loss: 0.0037 - val_loss: 0.0037\n",
      "Epoch 39/100\n",
      "469/469 [==============================] - 1s 3ms/step - loss: 0.0037 - val_loss: 0.0038\n",
      "Epoch 40/100\n",
      "469/469 [==============================] - 1s 3ms/step - loss: 0.0036 - val_loss: 0.0037\n",
      "Epoch 41/100\n",
      "469/469 [==============================] - 1s 3ms/step - loss: 0.0036 - val_loss: 0.0036\n",
      "Epoch 42/100\n",
      "469/469 [==============================] - 1s 3ms/step - loss: 0.0036 - val_loss: 0.0036\n",
      "Epoch 43/100\n",
      "469/469 [==============================] - 1s 3ms/step - loss: 0.0036 - val_loss: 0.0036\n",
      "Epoch 44/100\n",
      "469/469 [==============================] - 1s 3ms/step - loss: 0.0035 - val_loss: 0.0036\n",
      "Epoch 45/100\n",
      "469/469 [==============================] - 1s 3ms/step - loss: 0.0035 - val_loss: 0.0036\n",
      "Epoch 46/100\n",
      "469/469 [==============================] - 1s 3ms/step - loss: 0.0035 - val_loss: 0.0036\n",
      "Epoch 47/100\n",
      "469/469 [==============================] - 1s 3ms/step - loss: 0.0034 - val_loss: 0.0035\n",
      "Epoch 48/100\n",
      "469/469 [==============================] - 1s 3ms/step - loss: 0.0034 - val_loss: 0.0036\n",
      "Epoch 49/100\n",
      "469/469 [==============================] - 1s 3ms/step - loss: 0.0034 - val_loss: 0.0034\n",
      "Epoch 50/100\n",
      "469/469 [==============================] - 1s 3ms/step - loss: 0.0034 - val_loss: 0.0034\n",
      "Epoch 51/100\n",
      "469/469 [==============================] - 1s 3ms/step - loss: 0.0034 - val_loss: 0.0034\n",
      "Epoch 52/100\n",
      "469/469 [==============================] - 1s 3ms/step - loss: 0.0034 - val_loss: 0.0033\n",
      "Epoch 53/100\n",
      "469/469 [==============================] - 1s 3ms/step - loss: 0.0033 - val_loss: 0.0034\n",
      "Epoch 54/100\n",
      "469/469 [==============================] - 1s 3ms/step - loss: 0.0033 - val_loss: 0.0035\n",
      "Epoch 55/100\n",
      "469/469 [==============================] - 1s 3ms/step - loss: 0.0033 - val_loss: 0.0034\n",
      "Epoch 56/100\n",
      "469/469 [==============================] - 1s 3ms/step - loss: 0.0033 - val_loss: 0.0034\n",
      "Epoch 57/100\n",
      "469/469 [==============================] - 1s 3ms/step - loss: 0.0033 - val_loss: 0.0034\n",
      "Epoch 58/100\n",
      "469/469 [==============================] - 1s 3ms/step - loss: 0.0032 - val_loss: 0.0033\n",
      "Epoch 59/100\n",
      "469/469 [==============================] - 1s 3ms/step - loss: 0.0032 - val_loss: 0.0033\n",
      "Epoch 60/100\n",
      "469/469 [==============================] - 1s 3ms/step - loss: 0.0032 - val_loss: 0.0033\n",
      "Epoch 61/100\n",
      "469/469 [==============================] - 2s 3ms/step - loss: 0.0032 - val_loss: 0.0033\n",
      "Epoch 62/100\n",
      "469/469 [==============================] - 2s 3ms/step - loss: 0.0032 - val_loss: 0.0033\n",
      "Epoch 63/100\n",
      "469/469 [==============================] - 1s 3ms/step - loss: 0.0032 - val_loss: 0.0034\n",
      "Epoch 64/100\n",
      "469/469 [==============================] - 2s 3ms/step - loss: 0.0032 - val_loss: 0.0034\n",
      "Epoch 65/100\n",
      "469/469 [==============================] - 2s 3ms/step - loss: 0.0032 - val_loss: 0.0033\n",
      "Epoch 66/100\n",
      "469/469 [==============================] - 2s 3ms/step - loss: 0.0032 - val_loss: 0.0034\n",
      "Epoch 67/100\n",
      "469/469 [==============================] - 2s 4ms/step - loss: 0.0031 - val_loss: 0.0032\n",
      "Epoch 68/100\n",
      "469/469 [==============================] - 2s 4ms/step - loss: 0.0031 - val_loss: 0.0033\n",
      "Epoch 69/100\n",
      "469/469 [==============================] - 2s 3ms/step - loss: 0.0031 - val_loss: 0.0032\n",
      "Epoch 70/100\n",
      "469/469 [==============================] - 2s 3ms/step - loss: 0.0031 - val_loss: 0.0032\n",
      "Epoch 71/100\n",
      "469/469 [==============================] - 2s 3ms/step - loss: 0.0031 - val_loss: 0.0032\n",
      "Epoch 72/100\n",
      "469/469 [==============================] - 2s 4ms/step - loss: 0.0031 - val_loss: 0.0033\n",
      "Epoch 73/100\n",
      "469/469 [==============================] - 2s 3ms/step - loss: 0.0031 - val_loss: 0.0033\n",
      "Epoch 74/100\n",
      "469/469 [==============================] - 2s 3ms/step - loss: 0.0031 - val_loss: 0.0033\n",
      "Epoch 75/100\n",
      "469/469 [==============================] - 1s 3ms/step - loss: 0.0031 - val_loss: 0.0032\n",
      "Epoch 76/100\n",
      "469/469 [==============================] - 2s 3ms/step - loss: 0.0031 - val_loss: 0.0032\n",
      "Epoch 77/100\n",
      "469/469 [==============================] - 2s 3ms/step - loss: 0.0031 - val_loss: 0.0032\n",
      "Epoch 78/100\n",
      "469/469 [==============================] - 2s 4ms/step - loss: 0.0030 - val_loss: 0.0032\n",
      "Epoch 79/100\n",
      "469/469 [==============================] - 2s 4ms/step - loss: 0.0030 - val_loss: 0.0032\n",
      "Epoch 80/100\n",
      "469/469 [==============================] - 2s 4ms/step - loss: 0.0030 - val_loss: 0.0032\n",
      "Epoch 81/100\n"
     ]
    },
    {
     "name": "stdout",
     "output_type": "stream",
     "text": [
      "469/469 [==============================] - 2s 3ms/step - loss: 0.0030 - val_loss: 0.0031\n",
      "Epoch 82/100\n",
      "469/469 [==============================] - 2s 4ms/step - loss: 0.0030 - val_loss: 0.0032\n",
      "Epoch 83/100\n",
      "469/469 [==============================] - 2s 4ms/step - loss: 0.0030 - val_loss: 0.0031\n",
      "Epoch 84/100\n",
      "469/469 [==============================] - 2s 4ms/step - loss: 0.0030 - val_loss: 0.0032\n",
      "Epoch 85/100\n",
      "469/469 [==============================] - 1s 3ms/step - loss: 0.0030 - val_loss: 0.0032\n",
      "Epoch 86/100\n",
      "469/469 [==============================] - 2s 3ms/step - loss: 0.0030 - val_loss: 0.0031\n",
      "Epoch 87/100\n",
      "469/469 [==============================] - 2s 3ms/step - loss: 0.0030 - val_loss: 0.0032\n",
      "Epoch 88/100\n",
      "469/469 [==============================] - 2s 4ms/step - loss: 0.0030 - val_loss: 0.0032\n",
      "Epoch 89/100\n",
      "469/469 [==============================] - 3s 6ms/step - loss: 0.0030 - val_loss: 0.0032\n",
      "Epoch 90/100\n",
      "469/469 [==============================] - 2s 5ms/step - loss: 0.0030 - val_loss: 0.0032\n",
      "Epoch 91/100\n",
      "469/469 [==============================] - 2s 4ms/step - loss: 0.0030 - val_loss: 0.0031\n",
      "Epoch 92/100\n",
      "469/469 [==============================] - 1s 3ms/step - loss: 0.0030 - val_loss: 0.0031\n",
      "Epoch 93/100\n",
      "469/469 [==============================] - 1s 3ms/step - loss: 0.0030 - val_loss: 0.0032\n",
      "Epoch 94/100\n",
      "469/469 [==============================] - 2s 4ms/step - loss: 0.0029 - val_loss: 0.0031\n",
      "Epoch 95/100\n",
      "469/469 [==============================] - 2s 3ms/step - loss: 0.0029 - val_loss: 0.0031\n",
      "Epoch 96/100\n",
      "469/469 [==============================] - 2s 5ms/step - loss: 0.0029 - val_loss: 0.0031\n",
      "Epoch 97/100\n",
      "469/469 [==============================] - 2s 5ms/step - loss: 0.0029 - val_loss: 0.0031\n",
      "Epoch 98/100\n",
      "469/469 [==============================] - 2s 5ms/step - loss: 0.0029 - val_loss: 0.0031\n",
      "Epoch 99/100\n",
      "469/469 [==============================] - 2s 3ms/step - loss: 0.0029 - val_loss: 0.0030\n",
      "Epoch 100/100\n",
      "469/469 [==============================] - 2s 3ms/step - loss: 0.0029 - val_loss: 0.0032\n"
     ]
    }
   ],
   "source": [
    "history_1 = multilayer_autoencoder.fit(x_train,x_train,batch_size=128,epochs=100,verbose=1,validation_data=(x_test,x_test))"
   ]
  },
  {
   "cell_type": "markdown",
   "id": "7172a39e",
   "metadata": {},
   "source": [
    "## Predict & Visualize"
   ]
  },
  {
   "cell_type": "code",
   "execution_count": 45,
   "id": "5bb4b4e6",
   "metadata": {},
   "outputs": [
    {
     "name": "stdout",
     "output_type": "stream",
     "text": [
      "313/313 [==============================] - 0s 848us/step\n"
     ]
    }
   ],
   "source": [
    "multilayer_encoded_imgs = multilayer_encoder.predict(x_test)"
   ]
  },
  {
   "cell_type": "code",
   "execution_count": 46,
   "id": "f5c71b3d",
   "metadata": {},
   "outputs": [
    {
     "name": "stdout",
     "output_type": "stream",
     "text": [
      "The digit is 4\n"
     ]
    },
    {
     "data": {
      "text/plain": [
       "Text(0.5, 1.0, 'Encoded Image')"
      ]
     },
     "execution_count": 46,
     "metadata": {},
     "output_type": "execute_result"
    },
    {
     "data": {
      "image/png": "[encoded data removed]",
      "text/plain": [
       "<Figure size 640x480 with 2 Axes>"
      ]
     },
     "metadata": {},
     "output_type": "display_data"
    }
   ],
   "source": [
    "print(f'The digit is {y_test[i]}')\n",
    "plt.subplot(1,2,1)\n",
    "plt.imshow(x_test[i].reshape(28,28),cmap='gray')\n",
    "plt.title('Original Image')\n",
    "plt.subplot(1,2,2)\n",
    "plt.imshow(multilayer_encoded_imgs[i].reshape(8,8),cmap='gray')\n",
    "plt.title('Encoded Image')"
   ]
  },
  {
   "cell_type": "code",
   "execution_count": 47,
   "id": "6bd48592",
   "metadata": {},
   "outputs": [
    {
     "name": "stdout",
     "output_type": "stream",
     "text": [
      "313/313 [==============================] - 0s 703us/step\n"
     ]
    }
   ],
   "source": [
    "multilayer_decoded_imgs = multilayer_decoder.predict(multilayer_encoded_imgs)"
   ]
  },
  {
   "cell_type": "code",
   "execution_count": 48,
   "id": "8af7ddaf",
   "metadata": {},
   "outputs": [
    {
     "name": "stdout",
     "output_type": "stream",
     "text": [
      "The digit is 4\n"
     ]
    },
    {
     "data": {
      "text/plain": [
       "Text(0.5, 1.0, 'Decoded Image')"
      ]
     },
     "execution_count": 48,
     "metadata": {},
     "output_type": "execute_result"
    },
    {
     "data": {
      "image/png": "[encoded data removed]",
      "text/plain": [
       "<Figure size 640x480 with 2 Axes>"
      ]
     },
     "metadata": {},
     "output_type": "display_data"
    }
   ],
   "source": [
    "print(f'The digit is {y_test[i]}')\n",
    "plt.subplot(1,2,1)\n",
    "plt.imshow(x_test[i].reshape(28,28),cmap='gray')\n",
    "plt.title('Original Image')\n",
    "plt.subplot(1,2,2)\n",
    "plt.imshow(multilayer_decoded_imgs[i].reshape(28,28),cmap='gray')\n",
    "plt.title('Decoded Image')"
   ]
  },
  {
   "cell_type": "code",
   "execution_count": 49,
   "id": "7ccb904d",
   "metadata": {},
   "outputs": [
    {
     "name": "stdout",
     "output_type": "stream",
     "text": [
      "313/313 [==============================] - 0s 1ms/step\n"
     ]
    }
   ],
   "source": [
    "multilayer_decoded_img = multilayer_autoencoder.predict(x_test)"
   ]
  },
  {
   "cell_type": "code",
   "execution_count": 50,
   "id": "f85cd6a1",
   "metadata": {},
   "outputs": [
    {
     "name": "stdout",
     "output_type": "stream",
     "text": [
      "The digit is 4\n"
     ]
    },
    {
     "data": {
      "text/plain": [
       "Text(0.5, 1.0, 'Autoencoded Image')"
      ]
     },
     "execution_count": 50,
     "metadata": {},
     "output_type": "execute_result"
    },
    {
     "data": {
      "image/png": "[encoded data removed]",
      "text/plain": [
       "<Figure size 640x480 with 2 Axes>"
      ]
     },
     "metadata": {},
     "output_type": "display_data"
    }
   ],
   "source": [
    "print(f'The digit is {y_test[i]}')\n",
    "plt.subplot(1,2,1)\n",
    "plt.imshow(x_test[i].reshape(28,28),cmap='gray')\n",
    "plt.title('Original Image')\n",
    "plt.subplot(1,2,2)\n",
    "plt.imshow(multilayer_decoded_img[i].reshape(28,28),cmap='gray')\n",
    "plt.title('Autoencoded Image')"
   ]
  },
  {
   "cell_type": "markdown",
   "id": "200081e7",
   "metadata": {},
   "source": [
    "## Convolutional Autoencoder"
   ]
  },
  {
   "cell_type": "markdown",
   "id": "e542b06c",
   "metadata": {},
   "source": [
    "## Create Network"
   ]
  },
  {
   "cell_type": "code",
   "execution_count": 61,
   "id": "8f28796a",
   "metadata": {},
   "outputs": [],
   "source": [
    "(x_train,y_train),(x_test,y_test) = mnist.load_data()"
   ]
  },
  {
   "cell_type": "code",
   "execution_count": 62,
   "id": "a53ecb53",
   "metadata": {},
   "outputs": [],
   "source": [
    "x_train = x_train.reshape(x_train.shape[0],28,28,1)\n",
    "x_test = x_test.reshape(x_test.shape[0],28,28,1)"
   ]
  },
  {
   "cell_type": "code",
   "execution_count": 63,
   "id": "7fdde42d",
   "metadata": {},
   "outputs": [],
   "source": [
    "x_train = x_train.astype('float64')/255.0\n",
    "x_test = x_test.astype('float64')/255.0"
   ]
  },
  {
   "cell_type": "code",
   "execution_count": 76,
   "id": "618f5006",
   "metadata": {},
   "outputs": [],
   "source": [
    "input_img = Input(shape=(28,28,1))\n",
    "## encoder\n",
    "encode_conv_1 = Conv2D(filters=,kernel_size=(3,3),activation=\"relu\",padding=\"same\")(input_img)\n",
    "encode_pool_1 = MaxPooling2D(pool_size=(2,2),padding=\"same\")(encode_conv_1)\n",
    "encode_conv_2 = Conv2D(filters=128,kernel_size=(3,3),activation=\"relu\",padding=\"same\")(encode_pool_1)\n",
    "encode_pool_2 = MaxPooling2D(pool_size=(2,2),padding=\"same\")(encode_conv_2)\n",
    "encode_conv_3 = Conv2D(filters=64,kernel_size=(3,3),activation=\"relu\",padding=\"same\")(encode_pool_2)\n",
    "latent = MaxPooling2D(pool_size=(2,2),padding=\"same\")(encode_conv_3)\n",
    "## Decoder\n",
    "decode_conv_1 = Conv2D(filters=64,kernel_size=(3,3),activation=\"relu\",padding=\"same\")(latent)\n",
    "decode_pool_1 = UpSampling2D(size=(2,2))(decode_conv_1)\n",
    "decode_conv_2 = Conv2D(filters=128,kernel_size=(3,3),activation=\"relu\",padding=\"same\")(decode_pool_1)\n",
    "decode_pool_2 = UpSampling2D(size=(2,2))(decode_conv_2)\n",
    "decode_conv_3 = Conv2D(filters=256,kernel_size=(3,3),activation=\"relu\")(decode_pool_2)\n",
    "decode_pool_3 = UpSampling2D(size=(2,2))(decode_conv_3)\n",
    "output_img = Conv2D(filters=1,kernel_size=(3,3),activation=\"sigmoid\",padding=\"same\")(decode_pool_3)"
   ]
  },
  {
   "cell_type": "code",
   "execution_count": 77,
   "id": "0a95cffb",
   "metadata": {},
   "outputs": [],
   "source": [
    "conv_autoencoder = Model(inputs=input_img,outputs=output_img)"
   ]
  },
  {
   "cell_type": "code",
   "execution_count": 78,
   "id": "2faeedc4",
   "metadata": {},
   "outputs": [
    {
     "name": "stdout",
     "output_type": "stream",
     "text": [
      "Model: \"model_9\"\n",
      "_________________________________________________________________\n",
      " Layer (type)                Output Shape              Param #   \n",
      "=================================================================\n",
      " input_8 (InputLayer)        [(None, 28, 28, 1)]       0         \n",
      "                                                                 \n",
      " conv2d_21 (Conv2D)          (None, 28, 28, 256)       2560      \n",
      "                                                                 \n",
      " max_pooling2d_9 (MaxPooling  (None, 14, 14, 256)      0         \n",
      " 2D)                                                             \n",
      "                                                                 \n",
      " conv2d_22 (Conv2D)          (None, 14, 14, 128)       295040    \n",
      "                                                                 \n",
      " max_pooling2d_10 (MaxPoolin  (None, 7, 7, 128)        0         \n",
      " g2D)                                                            \n",
      "                                                                 \n",
      " conv2d_23 (Conv2D)          (None, 7, 7, 64)          73792     \n",
      "                                                                 \n",
      " max_pooling2d_11 (MaxPoolin  (None, 4, 4, 64)         0         \n",
      " g2D)                                                            \n",
      "                                                                 \n",
      " conv2d_24 (Conv2D)          (None, 4, 4, 64)          36928     \n",
      "                                                                 \n",
      " up_sampling2d_9 (UpSampling  (None, 8, 8, 64)         0         \n",
      " 2D)                                                             \n",
      "                                                                 \n",
      " conv2d_25 (Conv2D)          (None, 8, 8, 128)         73856     \n",
      "                                                                 \n",
      " up_sampling2d_10 (UpSamplin  (None, 16, 16, 128)      0         \n",
      " g2D)                                                            \n",
      "                                                                 \n",
      " conv2d_26 (Conv2D)          (None, 14, 14, 256)       295168    \n",
      "                                                                 \n",
      " up_sampling2d_11 (UpSamplin  (None, 28, 28, 256)      0         \n",
      " g2D)                                                            \n",
      "                                                                 \n",
      " conv2d_27 (Conv2D)          (None, 28, 28, 1)         2305      \n",
      "                                                                 \n",
      "=================================================================\n",
      "Total params: 779,649\n",
      "Trainable params: 779,649\n",
      "Non-trainable params: 0\n",
      "_________________________________________________________________\n"
     ]
    }
   ],
   "source": [
    "conv_autoencoder.summary()"
   ]
  },
  {
   "cell_type": "code",
   "execution_count": 79,
   "id": "f325a2c9",
   "metadata": {},
   "outputs": [],
   "source": [
    "conv_autoencoder.compile(optimizer='adadelta',loss='binary_crossentropy')"
   ]
  },
  {
   "cell_type": "code",
   "execution_count": 81,
   "id": "58f61138",
   "metadata": {},
   "outputs": [
    {
     "name": "stdout",
     "output_type": "stream",
     "text": [
      "Epoch 1/100\n",
      "938/938 [==============================] - 28s 29ms/step - loss: 0.6830 - val_loss: 0.6604\n",
      "Epoch 2/100\n",
      "938/938 [==============================] - 26s 28ms/step - loss: 0.5483 - val_loss: 0.4729\n",
      "Epoch 3/100\n",
      "938/938 [==============================] - 27s 28ms/step - loss: 0.4546 - val_loss: 0.4424\n",
      "Epoch 4/100\n",
      "938/938 [==============================] - 27s 29ms/step - loss: 0.4200 - val_loss: 0.3996\n",
      "Epoch 5/100\n",
      "938/938 [==============================] - 30s 32ms/step - loss: 0.3632 - val_loss: 0.3294\n",
      "Epoch 6/100\n",
      "938/938 [==============================] - 37s 39ms/step - loss: 0.3017 - val_loss: 0.2808\n",
      "Epoch 7/100\n",
      "938/938 [==============================] - 35s 37ms/step - loss: 0.2636 - val_loss: 0.2507\n",
      "Epoch 8/100\n",
      "938/938 [==============================] - 34s 36ms/step - loss: 0.2413 - val_loss: 0.2345\n",
      "Epoch 9/100\n",
      "938/938 [==============================] - 36s 38ms/step - loss: 0.2297 - val_loss: 0.2260\n",
      "Epoch 10/100\n",
      "938/938 [==============================] - 37s 40ms/step - loss: 0.2229 - val_loss: 0.2203\n",
      "Epoch 11/100\n",
      "938/938 [==============================] - 44s 47ms/step - loss: 0.2177 - val_loss: 0.2153\n",
      "Epoch 12/100\n",
      "938/938 [==============================] - 41s 44ms/step - loss: 0.2130 - val_loss: 0.2107\n",
      "Epoch 13/100\n",
      "938/938 [==============================] - 46s 49ms/step - loss: 0.2086 - val_loss: 0.2065\n",
      "Epoch 14/100\n",
      "938/938 [==============================] - 42s 44ms/step - loss: 0.2047 - val_loss: 0.2026\n",
      "Epoch 15/100\n",
      "938/938 [==============================] - 45s 48ms/step - loss: 0.2011 - val_loss: 0.1992\n",
      "Epoch 16/100\n",
      "938/938 [==============================] - 43s 45ms/step - loss: 0.1980 - val_loss: 0.1961\n",
      "Epoch 17/100\n",
      "938/938 [==============================] - 35s 37ms/step - loss: 0.1951 - val_loss: 0.1934\n",
      "Epoch 18/100\n",
      "938/938 [==============================] - 41s 44ms/step - loss: 0.1926 - val_loss: 0.1908\n",
      "Epoch 19/100\n",
      "938/938 [==============================] - 47s 50ms/step - loss: 0.1902 - val_loss: 0.1885\n",
      "Epoch 20/100\n",
      "938/938 [==============================] - 43s 46ms/step - loss: 0.1881 - val_loss: 0.1864\n",
      "Epoch 21/100\n",
      "938/938 [==============================] - 43s 45ms/step - loss: 0.1861 - val_loss: 0.1844\n",
      "Epoch 22/100\n",
      "938/938 [==============================] - 47s 50ms/step - loss: 0.1842 - val_loss: 0.1826\n",
      "Epoch 23/100\n",
      "938/938 [==============================] - 48s 51ms/step - loss: 0.1824 - val_loss: 0.1808\n",
      "Epoch 24/100\n",
      "938/938 [==============================] - 44s 47ms/step - loss: 0.1807 - val_loss: 0.1791\n",
      "Epoch 25/100\n",
      "938/938 [==============================] - 42s 45ms/step - loss: 0.1791 - val_loss: 0.1776\n",
      "Epoch 26/100\n",
      "938/938 [==============================] - 48s 51ms/step - loss: 0.1776 - val_loss: 0.1761\n",
      "Epoch 27/100\n",
      "938/938 [==============================] - 44s 47ms/step - loss: 0.1762 - val_loss: 0.1746\n",
      "Epoch 28/100\n",
      "938/938 [==============================] - 41s 44ms/step - loss: 0.1748 - val_loss: 0.1733\n",
      "Epoch 29/100\n",
      "938/938 [==============================] - 35s 37ms/step - loss: 0.1735 - val_loss: 0.1720\n",
      "Epoch 30/100\n",
      "938/938 [==============================] - 43s 46ms/step - loss: 0.1722 - val_loss: 0.1707\n",
      "Epoch 31/100\n",
      "938/938 [==============================] - 42s 44ms/step - loss: 0.1709 - val_loss: 0.1695\n",
      "Epoch 32/100\n",
      "938/938 [==============================] - 48s 51ms/step - loss: 0.1697 - val_loss: 0.1683\n",
      "Epoch 33/100\n",
      "938/938 [==============================] - 43s 46ms/step - loss: 0.1685 - val_loss: 0.1671\n",
      "Epoch 34/100\n",
      "938/938 [==============================] - 44s 47ms/step - loss: 0.1674 - val_loss: 0.1659\n",
      "Epoch 35/100\n",
      "938/938 [==============================] - 46s 49ms/step - loss: 0.1662 - val_loss: 0.1648\n",
      "Epoch 36/100\n",
      "938/938 [==============================] - 43s 45ms/step - loss: 0.1651 - val_loss: 0.1637\n",
      "Epoch 37/100\n",
      "938/938 [==============================] - 47s 51ms/step - loss: 0.1640 - val_loss: 0.1626\n",
      "Epoch 38/100\n",
      "938/938 [==============================] - 43s 46ms/step - loss: 0.1630 - val_loss: 0.1616\n",
      "Epoch 39/100\n",
      "938/938 [==============================] - 34s 36ms/step - loss: 0.1619 - val_loss: 0.1605\n",
      "Epoch 40/100\n",
      "938/938 [==============================] - 36s 38ms/step - loss: 0.1609 - val_loss: 0.1595\n",
      "Epoch 41/100\n",
      "938/938 [==============================] - 42s 45ms/step - loss: 0.1599 - val_loss: 0.1585\n",
      "Epoch 42/100\n",
      "938/938 [==============================] - 46s 49ms/step - loss: 0.1589 - val_loss: 0.1575\n",
      "Epoch 43/100\n",
      "938/938 [==============================] - 42s 45ms/step - loss: 0.1579 - val_loss: 0.1565\n",
      "Epoch 44/100\n",
      "938/938 [==============================] - 45s 47ms/step - loss: 0.1570 - val_loss: 0.1556\n",
      "Epoch 45/100\n",
      "938/938 [==============================] - 41s 44ms/step - loss: 0.1561 - val_loss: 0.1547\n",
      "Epoch 46/100\n",
      "938/938 [==============================] - 46s 49ms/step - loss: 0.1552 - val_loss: 0.1538\n",
      "Epoch 47/100\n",
      "938/938 [==============================] - 43s 46ms/step - loss: 0.1543 - val_loss: 0.1529\n",
      "Epoch 48/100\n",
      "938/938 [==============================] - 43s 45ms/step - loss: 0.1534 - val_loss: 0.1520\n",
      "Epoch 49/100\n",
      "938/938 [==============================] - 46s 49ms/step - loss: 0.1525 - val_loss: 0.1512\n",
      "Epoch 50/100\n",
      "938/938 [==============================] - 43s 46ms/step - loss: 0.1517 - val_loss: 0.1503\n",
      "Epoch 51/100\n",
      "938/938 [==============================] - 36s 39ms/step - loss: 0.1509 - val_loss: 0.1495\n",
      "Epoch 52/100\n",
      "938/938 [==============================] - 39s 41ms/step - loss: 0.1501 - val_loss: 0.1487\n",
      "Epoch 53/100\n",
      "938/938 [==============================] - 42s 45ms/step - loss: 0.1493 - val_loss: 0.1479\n",
      "Epoch 54/100\n",
      "938/938 [==============================] - 40s 43ms/step - loss: 0.1485 - val_loss: 0.1471\n",
      "Epoch 55/100\n",
      "938/938 [==============================] - 43s 46ms/step - loss: 0.1478 - val_loss: 0.1464\n",
      "Epoch 56/100\n",
      "938/938 [==============================] - 45s 48ms/step - loss: 0.1470 - val_loss: 0.1457\n",
      "Epoch 57/100\n",
      "938/938 [==============================] - 45s 48ms/step - loss: 0.1463 - val_loss: 0.1449\n",
      "Epoch 58/100\n",
      "938/938 [==============================] - 49s 52ms/step - loss: 0.1456 - val_loss: 0.1442\n",
      "Epoch 59/100\n",
      "938/938 [==============================] - 44s 47ms/step - loss: 0.1449 - val_loss: 0.1435\n",
      "Epoch 60/100\n",
      "938/938 [==============================] - 45s 47ms/step - loss: 0.1442 - val_loss: 0.1429\n",
      "Epoch 61/100\n",
      "938/938 [==============================] - 42s 45ms/step - loss: 0.1436 - val_loss: 0.1421\n",
      "Epoch 62/100\n",
      "938/938 [==============================] - 42s 45ms/step - loss: 0.1429 - val_loss: 0.1415\n",
      "Epoch 63/100\n",
      "938/938 [==============================] - 35s 37ms/step - loss: 0.1423 - val_loss: 0.1409\n",
      "Epoch 64/100\n",
      "938/938 [==============================] - 42s 45ms/step - loss: 0.1417 - val_loss: 0.1402\n",
      "Epoch 65/100\n",
      "938/938 [==============================] - 42s 45ms/step - loss: 0.1410 - val_loss: 0.1396\n",
      "Epoch 66/100\n",
      "938/938 [==============================] - 48s 51ms/step - loss: 0.1404 - val_loss: 0.1390\n",
      "Epoch 67/100\n",
      "938/938 [==============================] - 45s 48ms/step - loss: 0.1399 - val_loss: 0.1384\n",
      "Epoch 68/100\n",
      "938/938 [==============================] - 48s 51ms/step - loss: 0.1393 - val_loss: 0.1379\n",
      "Epoch 69/100\n",
      "938/938 [==============================] - 43s 46ms/step - loss: 0.1387 - val_loss: 0.1373\n",
      "Epoch 70/100\n",
      "938/938 [==============================] - 43s 45ms/step - loss: 0.1382 - val_loss: 0.1368\n",
      "Epoch 71/100\n",
      "938/938 [==============================] - 46s 49ms/step - loss: 0.1377 - val_loss: 0.1362\n",
      "Epoch 72/100\n",
      "938/938 [==============================] - 55s 58ms/step - loss: 0.1371 - val_loss: 0.1357\n",
      "Epoch 73/100\n",
      "938/938 [==============================] - 55s 59ms/step - loss: 0.1366 - val_loss: 0.1352\n",
      "Epoch 74/100\n",
      "938/938 [==============================] - 49s 52ms/step - loss: 0.1361 - val_loss: 0.1347\n",
      "Epoch 75/100\n",
      "938/938 [==============================] - 49s 52ms/step - loss: 0.1356 - val_loss: 0.1342\n",
      "Epoch 76/100\n",
      "938/938 [==============================] - 52s 56ms/step - loss: 0.1352 - val_loss: 0.1338\n",
      "Epoch 77/100\n",
      "938/938 [==============================] - 31s 33ms/step - loss: 0.1347 - val_loss: 0.1333\n",
      "Epoch 78/100\n",
      "938/938 [==============================] - 39s 41ms/step - loss: 0.1342 - val_loss: 0.1328\n",
      "Epoch 79/100\n",
      "938/938 [==============================] - 27s 29ms/step - loss: 0.1338 - val_loss: 0.1324\n"
     ]
    },
    {
     "name": "stdout",
     "output_type": "stream",
     "text": [
      "Epoch 80/100\n",
      "938/938 [==============================] - 27s 29ms/step - loss: 0.1334 - val_loss: 0.1319\n",
      "Epoch 81/100\n",
      "938/938 [==============================] - 27s 29ms/step - loss: 0.1329 - val_loss: 0.1315\n",
      "Epoch 82/100\n",
      "938/938 [==============================] - 28s 30ms/step - loss: 0.1325 - val_loss: 0.1311\n",
      "Epoch 83/100\n",
      "938/938 [==============================] - 31s 33ms/step - loss: 0.1321 - val_loss: 0.1307\n",
      "Epoch 84/100\n",
      "938/938 [==============================] - 31s 33ms/step - loss: 0.1317 - val_loss: 0.1303\n",
      "Epoch 85/100\n",
      "938/938 [==============================] - 31s 33ms/step - loss: 0.1313 - val_loss: 0.1299\n",
      "Epoch 86/100\n",
      "938/938 [==============================] - 31s 33ms/step - loss: 0.1309 - val_loss: 0.1295\n",
      "Epoch 87/100\n",
      "938/938 [==============================] - 36s 38ms/step - loss: 0.1305 - val_loss: 0.1291\n",
      "Epoch 88/100\n",
      "938/938 [==============================] - 35s 38ms/step - loss: 0.1302 - val_loss: 0.1288\n",
      "Epoch 89/100\n",
      "938/938 [==============================] - 31s 33ms/step - loss: 0.1298 - val_loss: 0.1284\n",
      "Epoch 90/100\n",
      "938/938 [==============================] - 35s 37ms/step - loss: 0.1294 - val_loss: 0.1280\n",
      "Epoch 91/100\n",
      "938/938 [==============================] - 30s 32ms/step - loss: 0.1291 - val_loss: 0.1277\n",
      "Epoch 92/100\n",
      "938/938 [==============================] - 30s 32ms/step - loss: 0.1287 - val_loss: 0.1273\n",
      "Epoch 93/100\n",
      "938/938 [==============================] - 31s 33ms/step - loss: 0.1284 - val_loss: 0.1270\n",
      "Epoch 94/100\n",
      "938/938 [==============================] - 30s 32ms/step - loss: 0.1280 - val_loss: 0.1266\n",
      "Epoch 95/100\n",
      "938/938 [==============================] - 31s 33ms/step - loss: 0.1277 - val_loss: 0.1263\n",
      "Epoch 96/100\n",
      "938/938 [==============================] - 31s 33ms/step - loss: 0.1274 - val_loss: 0.1260\n",
      "Epoch 97/100\n",
      "938/938 [==============================] - 30s 32ms/step - loss: 0.1271 - val_loss: 0.1256\n",
      "Epoch 98/100\n",
      "938/938 [==============================] - 30s 32ms/step - loss: 0.1267 - val_loss: 0.1253\n",
      "Epoch 99/100\n",
      "938/938 [==============================] - 30s 32ms/step - loss: 0.1264 - val_loss: 0.1250\n",
      "Epoch 100/100\n",
      "938/938 [==============================] - 35s 37ms/step - loss: 0.1261 - val_loss: 0.1247\n"
     ]
    }
   ],
   "source": [
    "history_2 = conv_autoencoder.fit(x_train,x_train,batch_size=64,verbose=1,epochs=100,validation_data=(x_test,x_test))"
   ]
  },
  {
   "cell_type": "code",
   "execution_count": 82,
   "id": "744482ab",
   "metadata": {},
   "outputs": [
    {
     "name": "stdout",
     "output_type": "stream",
     "text": [
      "313/313 [==============================] - 2s 7ms/step\n"
     ]
    }
   ],
   "source": [
    "conv_decoded_img = conv_autoencoder.predict(x_test)"
   ]
  },
  {
   "cell_type": "code",
   "execution_count": 83,
   "id": "35ae1bb9",
   "metadata": {},
   "outputs": [
    {
     "name": "stdout",
     "output_type": "stream",
     "text": [
      "The digit is 4\n"
     ]
    },
    {
     "data": {
      "text/plain": [
       "Text(0.5, 1.0, 'Autoencoded Image')"
      ]
     },
     "execution_count": 83,
     "metadata": {},
     "output_type": "execute_result"
    },
    {
     "data": {
      "image/png": "[encoded data removed]",
      "text/plain": [
       "<Figure size 640x480 with 2 Axes>"
      ]
     },
     "metadata": {},
     "output_type": "display_data"
    }
   ],
   "source": [
    "print(f'The digit is {y_test[i]}')\n",
    "plt.subplot(1,2,1)\n",
    "plt.imshow(x_test[i].reshape(28,28),cmap='gray')\n",
    "plt.title('Original Image')\n",
    "plt.subplot(1,2,2)\n",
    "plt.imshow(conv_decoded_img[i].reshape(28,28),cmap='gray')\n",
    "plt.title('Autoencoded Image')"
   ]
  }
 ],
 "metadata": {
  "kernelspec": {
   "display_name": "Python 3.9 (tf2.9)",
   "language": "python",
   "name": "tf2.9"
  },
  "language_info": {
   "codemirror_mode": {
    "name": "ipython",
    "version": 3
   },
   "file_extension": ".py",
   "mimetype": "text/x-python",
   "name": "python",
   "nbconvert_exporter": "python",
   "pygments_lexer": "ipython3",
   "version": "3.9.13"
  }
 },
 "nbformat": 4,
 "nbformat_minor": 5
}
